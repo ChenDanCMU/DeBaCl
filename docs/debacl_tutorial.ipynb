{
 "metadata": {
  "name": "debacl_tutorial"
 },
 "nbformat": 3,
 "nbformat_minor": 0,
 "worksheets": [
  {
   "cells": [
    {
     "cell_type": "markdown",
     "metadata": {},
     "source": [
      "This is a test file, to get started."
     ]
    },
    {
     "cell_type": "code",
     "collapsed": false,
     "input": [
      "## Set up\n",
      "import sys\n",
      "sys.path.append('..')  # shouldn't need this once installed from PyPI\n",
      "\n",
      "from debacl import geom_tree as gtree\n",
      "from debacl import utils as utl\n",
      "\n",
      "import numpy as np\n",
      "import matplotlib.pyplot as plt"
     ],
     "language": "python",
     "metadata": {},
     "outputs": [],
     "prompt_number": 9
    },
    {
     "cell_type": "code",
     "collapsed": false,
     "input": [
      "## Set parameters\n",
      "# general\n",
      "n = 1500\n",
      "p_k = 0.02\n",
      "p_gamma = 0.05\n",
      "mix = (0.5, 0.3, 0.2)\n",
      "\n",
      "k = int(p_k * n)\n",
      "gamma = int(p_gamma * n)\n",
      "\n",
      "\n",
      "# data\n",
      "ctr = ((1,), (6,), (11,))\n",
      "sdev = (np.eye(1),) * 3"
     ],
     "language": "python",
     "metadata": {},
     "outputs": [],
     "prompt_number": 10
    },
    {
     "cell_type": "code",
     "collapsed": false,
     "input": [
      "## Generate data\n",
      "membership = np.random.multinomial(n, pvals=mix)\n",
      "p = len(ctr[0])\n",
      "X = np.zeros((n, p), dtype=np.float)\n",
      "g = np.zeros((n, ), dtype=np.int)\n",
      "b = np.cumsum((0,) + tuple(membership))\n",
      "\n",
      "for i, (size, mu, sigma) in enumerate(zip(membership, ctr, sdev)):\n",
      "\tix = range(b[i], b[i+1])\n",
      "\tX[ix, :] = np.random.multivariate_normal(mu, sigma, size)\n",
      "\tg[ix] = i\n",
      "\n",
      "X = np.sort(X, axis=0)  # sort the points for prettier downstream plotting\n",
      "\n",
      "\n",
      "## Plot a histogram of the data to show the simulation worked\n",
      "fig, ax = plt.subplots()\n",
      "ax.hist(X, bins=n/20, normed=1, alpha=0.5)\n",
      "ax.set_xlabel('X')\n",
      "ax.set_ylabel('density')\n",
      "fig.show()"
     ],
     "language": "python",
     "metadata": {},
     "outputs": [
      {
       "output_type": "display_data",
       "png": "[encoded data removed]"
      }
     ],
     "prompt_number": 11
    },
    {
     "cell_type": "code",
     "collapsed": false,
     "input": [
      "## Estimate the level set tree - the easy way\n",
      "tree = gtree.geomTree(X, k, gamma, n_grid=None, verbose=True)\n",
      "print tree\n",
      "\n",
      "\n",
      "## Retrieve cluster assignments from the tree\n",
      "uc, leaves = tree.getClusterLabels(method='all-mode')\n",
      "print \"cluster counts:\", np.bincount(uc[:, 1])\n",
      "print \"leaf indices:\", leaves\n",
      "\n",
      "\n",
      "## Plot the level set tree with colored leaves\n",
      "## note the plot function returns a tuple with 5 objects. The first member of \n",
      "## tuple is the figure, which for most users is the only interesting part.\n",
      "fig = tree.plot(form='lambda', width='uniform', color_nodes=leaves)[0]\n",
      "fig.show()"
     ],
     "language": "python",
     "metadata": {},
     "outputs": [
      {
       "output_type": "stream",
       "stream": "stdout",
       "text": [
        "iteration 0\n",
        "iteration"
       ]
      },
      {
       "output_type": "stream",
       "stream": "stdout",
       "text": [
        " 100\n",
        "iteration"
       ]
      },
      {
       "output_type": "stream",
       "stream": "stdout",
       "text": [
        " 200\n",
        "iteration"
       ]
      },
      {
       "output_type": "stream",
       "stream": "stdout",
       "text": [
        " 300\n",
        "iteration"
       ]
      },
      {
       "output_type": "stream",
       "stream": "stdout",
       "text": [
        " 400\n",
        "iteration"
       ]
      },
      {
       "output_type": "stream",
       "stream": "stdout",
       "text": [
        " 500\n",
        "iteration"
       ]
      },
      {
       "output_type": "stream",
       "stream": "stdout",
       "text": [
        " 600\n",
        "iteration"
       ]
      },
      {
       "output_type": "stream",
       "stream": "stdout",
       "text": [
        " 700\n",
        "iteration"
       ]
      },
      {
       "output_type": "stream",
       "stream": "stdout",
       "text": [
        " 800\n",
        "iteration"
       ]
      },
      {
       "output_type": "stream",
       "stream": "stdout",
       "text": [
        " 900\n",
        "iteration"
       ]
      },
      {
       "output_type": "stream",
       "stream": "stdout",
       "text": [
        " 1000\n",
        "iteration"
       ]
      },
      {
       "output_type": "stream",
       "stream": "stdout",
       "text": [
        " 1100\n",
        "iteration"
       ]
      },
      {
       "output_type": "stream",
       "stream": "stdout",
       "text": [
        " 1200\n",
        "iteration 1300\n",
        "iteration"
       ]
      },
      {
       "output_type": "stream",
       "stream": "stdout",
       "text": [
        " 1400\n",
        "       alpha1    alpha2 children   lambda1   lambda2 parent  size\n",
        "key                                                              \n",
        "0    0.000000  0.006667   [1, 2]  0.000000  0.013317   None  1500\n",
        "1    0.006667  0.029333   [3, 4]  0.013317  0.020052      0  1193\n",
        "2    0.006667  0.584000       []  0.013317  0.114642      0   297\n",
        "3    0.029333  1.000000       []  0.020052  0.330420      1   740\n",
        "4    0.029333  0.804667       []  0.020052  0.175467      1   427\n",
        "cluster counts: [297 740 427]\n",
        "leaf indices: [2, 3, 4]\n"
       ]
      },
      {
       "output_type": "display_data",
       "png": "[encoded data removed]"
      }
     ],
     "prompt_number": 13
    },
    {
     "cell_type": "code",
     "collapsed": false,
     "input": [
      "## Assign background points\n",
      "fc = utl.assignBackgroundPoints(X.reshape((n, -1)), uc, method='knn', k=9)\n",
      "print \"final cluster counts:\", np.bincount(fc[:, 1])"
     ],
     "language": "python",
     "metadata": {},
     "outputs": [
      {
       "output_type": "stream",
       "stream": "stdout",
       "text": [
        "final cluster counts: [302 753 445]\n"
       ]
      }
     ],
     "prompt_number": 14
    },
    {
     "cell_type": "code",
     "collapsed": false,
     "input": [],
     "language": "python",
     "metadata": {},
     "outputs": []
    }
   ],
   "metadata": {}
  }
 ]
}